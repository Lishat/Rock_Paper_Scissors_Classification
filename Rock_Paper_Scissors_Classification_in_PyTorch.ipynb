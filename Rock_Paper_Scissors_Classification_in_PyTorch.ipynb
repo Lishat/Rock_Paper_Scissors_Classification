{
  "nbformat": 4,
  "nbformat_minor": 0,
  "metadata": {
    "colab": {
      "name": "Rock Paper Scissors Classification in PyTorch.ipynb",
      "version": "0.3.2",
      "provenance": [],
      "collapsed_sections": [],
      "include_colab_link": true
    },
    "kernelspec": {
      "name": "python3",
      "display_name": "Python 3"
    },
    "accelerator": "GPU"
  },
  "cells": [
    {
      "cell_type": "markdown",
      "metadata": {
        "id": "view-in-github",
        "colab_type": "text"
      },
      "source": [
        "<a href=\"https://colab.research.google.com/github/Lishat/Rock_Paper_Scissors_Classification/blob/master/Rock_Paper_Scissors_Classification_in_PyTorch.ipynb\" target=\"_parent\"><img src=\"https://colab.research.google.com/assets/colab-badge.svg\" alt=\"Open In Colab\"/></a>"
      ]
    },
    {
      "cell_type": "code",
      "metadata": {
        "id": "TOe7juJQwn2i",
        "colab_type": "code",
        "outputId": "f4b22176-4106-468a-9fd9-716c16d5fd18",
        "colab": {
          "base_uri": "https://localhost:8080/",
          "height": 419
        }
      },
      "source": [
        "!wget --no-check-certificate \\\n",
        "    https://storage.googleapis.com/laurencemoroney-blog.appspot.com/rps.zip \\\n",
        "    -O /content/rps.zip\n",
        "  \n",
        "!wget --no-check-certificate \\\n",
        "    https://storage.googleapis.com/laurencemoroney-blog.appspot.com/rps-test-set.zip \\\n",
        "    -O /content/rps-test-set.zip"
      ],
      "execution_count": 1,
      "outputs": [
        {
          "output_type": "stream",
          "text": [
            "--2019-07-01 05:36:59--  https://storage.googleapis.com/laurencemoroney-blog.appspot.com/rps.zip\n",
            "Resolving storage.googleapis.com (storage.googleapis.com)... 74.125.141.128, 2607:f8b0:400c:c06::80\n",
            "Connecting to storage.googleapis.com (storage.googleapis.com)|74.125.141.128|:443... connected.\n",
            "HTTP request sent, awaiting response... 200 OK\n",
            "Length: 200682221 (191M) [application/zip]\n",
            "Saving to: ‘/content/rps.zip’\n",
            "\n",
            "/content/rps.zip    100%[===================>] 191.38M   185MB/s    in 1.0s    \n",
            "\n",
            "2019-07-01 05:37:00 (185 MB/s) - ‘/content/rps.zip’ saved [200682221/200682221]\n",
            "\n",
            "--2019-07-01 05:37:02--  https://storage.googleapis.com/laurencemoroney-blog.appspot.com/rps-test-set.zip\n",
            "Resolving storage.googleapis.com (storage.googleapis.com)... 74.125.141.128, 2607:f8b0:400c:c06::80\n",
            "Connecting to storage.googleapis.com (storage.googleapis.com)|74.125.141.128|:443... connected.\n",
            "HTTP request sent, awaiting response... 200 OK\n",
            "Length: 29516758 (28M) [application/zip]\n",
            "Saving to: ‘/content/rps-test-set.zip’\n",
            "\n",
            "/content/rps-test-s 100%[===================>]  28.15M   178MB/s    in 0.2s    \n",
            "\n",
            "2019-07-01 05:37:02 (178 MB/s) - ‘/content/rps-test-set.zip’ saved [29516758/29516758]\n",
            "\n"
          ],
          "name": "stdout"
        }
      ]
    },
    {
      "cell_type": "code",
      "metadata": {
        "id": "cLra6-qNwpCE",
        "colab_type": "code",
        "colab": {}
      },
      "source": [
        "import zipfile\n",
        "\n",
        "local_zip = '/content/rps.zip'\n",
        "zip_ref = zipfile.ZipFile(local_zip, 'r')\n",
        "zip_ref.extractall('/content/')\n",
        "zip_ref.close()\n",
        "\n",
        "local_zip = '/content/rps-test-set.zip'\n",
        "zip_ref = zipfile.ZipFile(local_zip, 'r')\n",
        "zip_ref.extractall('/content/')\n",
        "zip_ref.close()"
      ],
      "execution_count": 0,
      "outputs": []
    },
    {
      "cell_type": "code",
      "metadata": {
        "id": "G6abd-chwLJY",
        "colab_type": "code",
        "colab": {}
      },
      "source": [
        "import torch\n",
        "from torchvision import transforms, datasets"
      ],
      "execution_count": 0,
      "outputs": []
    },
    {
      "cell_type": "code",
      "metadata": {
        "id": "PRrHGBJ9wfvT",
        "colab_type": "code",
        "colab": {}
      },
      "source": [
        "data_transform = transforms.Compose([\n",
        "        transforms.RandomResizedCrop(224),\n",
        "        transforms.RandomHorizontalFlip(),\n",
        "        transforms.ToTensor(),\n",
        "        transforms.Normalize(mean=[0.485, 0.456, 0.406],\n",
        "                             std=[0.229, 0.224, 0.225])\n",
        "    ])\n",
        "train_data = datasets.ImageFolder(root='/content/rps', transform = data_transform)\n",
        "test_data = datasets.ImageFolder(root='/content/rps-test-set', transform = data_transform)\n",
        "trainDataloader = torch.utils.data.DataLoader(train_data, batch_size=8,\n",
        "                                              shuffle=True, num_workers=4)\n",
        "testDataloader = torch.utils.data.DataLoader(test_data, batch_size=8,\n",
        "                                             shuffle=True, num_workers=4)\n",
        "device = torch.device(\"cuda:0\" if torch.cuda.is_available() else \"cpu\")"
      ],
      "execution_count": 0,
      "outputs": []
    },
    {
      "cell_type": "code",
      "metadata": {
        "id": "VCI_olR5yARu",
        "colab_type": "code",
        "colab": {}
      },
      "source": [
        "class Model(torch.nn.Module):\n",
        "  def __init__(self):\n",
        "    super(Model, self).__init__()\n",
        "    self.conv = torch.nn.Sequential(torch.nn.Conv2d(3, 16, 5),\n",
        "                                   torch.nn.ReLU(inplace=True),\n",
        "                                   torch.nn.MaxPool2d(2),\n",
        "                                   torch.nn.Conv2d(16, 32, 5),\n",
        "                                   torch.nn.BatchNorm2d(32),\n",
        "                                   torch.nn.ReLU(inplace=True),\n",
        "                                   torch.nn.MaxPool2d(2),\n",
        "                                   torch.nn.Conv2d(32, 64, 5),\n",
        "                                   torch.nn.BatchNorm2d(64),\n",
        "                                   torch.nn.ReLU(inplace=True),\n",
        "                                   torch.nn.MaxPool2d(2),\n",
        "                                   torch.nn.Conv2d(64, 128, 5),\n",
        "                                   torch.nn.BatchNorm2d(128),\n",
        "                                   torch.nn.ReLU(inplace=True),\n",
        "                                   torch.nn.MaxPool2d(2),\n",
        "                                   torch.nn.Conv2d(128, 256, 5),\n",
        "                                   torch.nn.BatchNorm2d(256),\n",
        "                                   torch.nn.ReLU(inplace=True),\n",
        "                                   torch.nn.MaxPool2d(2))\n",
        "    self.ann = torch.nn.Sequential(torch.nn.Linear(2304, 512),\n",
        "                                   torch.nn.ReLU(inplace=True),\n",
        "                                   torch.nn.Linear(512, 128),\n",
        "                                   torch.nn.ReLU(inplace=True),\n",
        "                                   torch.nn.Linear(128, 32),\n",
        "                                   torch.nn.ReLU(inplace=True),\n",
        "                                   torch.nn.Linear(32, 8),\n",
        "                                   torch.nn.ReLU(inplace=True),\n",
        "                                   torch.nn.Linear(8, 3),\n",
        "                                   torch.nn.Softmax(),\n",
        "                                  )\n",
        "  def forward(self, x):\n",
        "    x = self.conv(x)\n",
        "    x = x.view(-1, 2304)\n",
        "    x = self.ann(x)\n",
        "    return x\n",
        "    "
      ],
      "execution_count": 0,
      "outputs": []
    },
    {
      "cell_type": "code",
      "metadata": {
        "id": "87CAL_-L3okh",
        "colab_type": "code",
        "colab": {}
      },
      "source": [
        "myModel = Model()"
      ],
      "execution_count": 0,
      "outputs": []
    },
    {
      "cell_type": "code",
      "metadata": {
        "id": "ULUesx9G5gVM",
        "colab_type": "code",
        "outputId": "57148964-51c9-4765-da73-99099793d99b",
        "colab": {
          "base_uri": "https://localhost:8080/",
          "height": 624
        }
      },
      "source": [
        "myModel"
      ],
      "execution_count": 17,
      "outputs": [
        {
          "output_type": "execute_result",
          "data": {
            "text/plain": [
              "Model(\n",
              "  (conv): Sequential(\n",
              "    (0): Conv2d(3, 16, kernel_size=(5, 5), stride=(1, 1))\n",
              "    (1): ReLU(inplace)\n",
              "    (2): MaxPool2d(kernel_size=2, stride=2, padding=0, dilation=1, ceil_mode=False)\n",
              "    (3): Conv2d(16, 32, kernel_size=(5, 5), stride=(1, 1))\n",
              "    (4): BatchNorm2d(32, eps=1e-05, momentum=0.1, affine=True, track_running_stats=True)\n",
              "    (5): ReLU(inplace)\n",
              "    (6): MaxPool2d(kernel_size=2, stride=2, padding=0, dilation=1, ceil_mode=False)\n",
              "    (7): Conv2d(32, 64, kernel_size=(5, 5), stride=(1, 1))\n",
              "    (8): BatchNorm2d(64, eps=1e-05, momentum=0.1, affine=True, track_running_stats=True)\n",
              "    (9): ReLU(inplace)\n",
              "    (10): MaxPool2d(kernel_size=2, stride=2, padding=0, dilation=1, ceil_mode=False)\n",
              "    (11): Conv2d(64, 128, kernel_size=(5, 5), stride=(1, 1))\n",
              "    (12): BatchNorm2d(128, eps=1e-05, momentum=0.1, affine=True, track_running_stats=True)\n",
              "    (13): ReLU(inplace)\n",
              "    (14): MaxPool2d(kernel_size=2, stride=2, padding=0, dilation=1, ceil_mode=False)\n",
              "    (15): Conv2d(128, 256, kernel_size=(5, 5), stride=(1, 1))\n",
              "    (16): BatchNorm2d(256, eps=1e-05, momentum=0.1, affine=True, track_running_stats=True)\n",
              "    (17): ReLU(inplace)\n",
              "    (18): MaxPool2d(kernel_size=2, stride=2, padding=0, dilation=1, ceil_mode=False)\n",
              "  )\n",
              "  (ann): Sequential(\n",
              "    (0): Linear(in_features=2304, out_features=512, bias=True)\n",
              "    (1): ReLU(inplace)\n",
              "    (2): Linear(in_features=512, out_features=128, bias=True)\n",
              "    (3): ReLU(inplace)\n",
              "    (4): Linear(in_features=128, out_features=32, bias=True)\n",
              "    (5): ReLU(inplace)\n",
              "    (6): Linear(in_features=32, out_features=8, bias=True)\n",
              "    (7): ReLU(inplace)\n",
              "    (8): Linear(in_features=8, out_features=3, bias=True)\n",
              "    (9): Softmax()\n",
              "  )\n",
              ")"
            ]
          },
          "metadata": {
            "tags": []
          },
          "execution_count": 17
        }
      ]
    },
    {
      "cell_type": "code",
      "metadata": {
        "id": "EnS5OMoe5hid",
        "colab_type": "code",
        "colab": {}
      },
      "source": [
        "myModel.to(device)\n",
        "Loss = torch.nn.CrossEntropyLoss()\n",
        "Optimizer = torch.optim.Adam(myModel.parameters(), lr=0.00001)"
      ],
      "execution_count": 0,
      "outputs": []
    },
    {
      "cell_type": "code",
      "metadata": {
        "id": "PH0NBTTr59r4",
        "colab_type": "code",
        "outputId": "35cb5d59-38ab-42ca-a7ff-0082a8b31f5b",
        "colab": {
          "base_uri": "https://localhost:8080/",
          "height": 609
        }
      },
      "source": [
        "for epoch in range(10):\n",
        "  current_loss = 0.0\n",
        "  for images, classes in trainDataloader:\n",
        "    images = images.to(device)\n",
        "    classes = classes.to(device)\n",
        "    Optimizer.zero_grad()\n",
        "    obtained_outputs = myModel(images)\n",
        "    loss = Loss(obtained_outputs, classes)\n",
        "    loss.backward()\n",
        "    Optimizer.step()\n",
        "    current_loss += loss.item()\n",
        "  print(\"TRAINING:\\nEPOCH:\", epoch)\n",
        "  print(\"LOSS:\", current_loss)\n",
        "with torch.no_grad():\n",
        "  correctly_classified = 0\n",
        "  total = 0\n",
        "  for images, classes in testDataloader:\n",
        "    images = images.to(device)\n",
        "    classes = classes.to(device)\n",
        "    correctly_classified += (torch.argmax(myModel(images), 1) == classes).sum().item()\n",
        "    total += classes.size(0)\n",
        "  print(\"OBTAINED ACCURACY:\", correctly_classified*100/total)\n",
        "    "
      ],
      "execution_count": 22,
      "outputs": [
        {
          "output_type": "stream",
          "text": [
            "/usr/local/lib/python3.6/dist-packages/torch/nn/modules/container.py:92: UserWarning: Implicit dimension choice for softmax has been deprecated. Change the call to include dim=X as an argument.\n",
            "  input = module(input)\n"
          ],
          "name": "stderr"
        },
        {
          "output_type": "stream",
          "text": [
            "TRAINING:\n",
            "EPOCH: 0\n",
            "LOSS: 214.35284048318863\n",
            "TRAINING:\n",
            "EPOCH: 1\n",
            "LOSS: 213.2094103693962\n",
            "TRAINING:\n",
            "EPOCH: 2\n",
            "LOSS: 215.49903893470764\n",
            "TRAINING:\n",
            "EPOCH: 3\n",
            "LOSS: 215.68160820007324\n",
            "TRAINING:\n",
            "EPOCH: 4\n",
            "LOSS: 212.68196028470993\n",
            "TRAINING:\n",
            "EPOCH: 5\n",
            "LOSS: 211.7701252102852\n",
            "TRAINING:\n",
            "EPOCH: 6\n",
            "LOSS: 213.71711760759354\n",
            "TRAINING:\n",
            "EPOCH: 7\n",
            "LOSS: 211.60392796993256\n",
            "TRAINING:\n",
            "EPOCH: 8\n",
            "LOSS: 214.26483511924744\n",
            "TRAINING:\n",
            "EPOCH: 9\n",
            "LOSS: 212.49693179130554\n",
            "OBTAINED ACCURACY: 81.45161290322581\n"
          ],
          "name": "stdout"
        }
      ]
    },
    {
      "cell_type": "code",
      "metadata": {
        "id": "VRAqSl877KTE",
        "colab_type": "code",
        "colab": {}
      },
      "source": [
        ""
      ],
      "execution_count": 0,
      "outputs": []
    }
  ]
}